{
 "cells": [
  {
   "cell_type": "markdown",
   "metadata": {},
   "source": [
    "# ノーズソフトメモ"
   ]
  },
  {
   "cell_type": "markdown",
   "metadata": {},
   "source": [
    "## 使用ライブラリ\n",
    "- [MCP3421](https://github.com/uChip/MCP342X)\n",
    "- "
   ]
  },
  {
   "cell_type": "markdown",
   "metadata": {},
   "source": [
    "## rp2040を使う上での注意点\n",
    "\n",
    "- USB認識をしなくなったら，BOOTボタンを押しながらUSB接続し，RP2040のドライブにリセット用のuf2ファイルをドラック&ドロップ\n",
    "- Wire.hを使う前に，rp2040はI2Cがいくつもあるので，どのGPIOを使うか宣言する必要がある．\n",
    "```\n",
    "#define PIN1_SDA 6\n",
    "#define PIN1_SCL 7\n",
    "Wire.setSDA(PIN1_SDA);\n",
    "Wire.setSCL(PIN1_SCL);\n",
    "Wire.begin(); \n",
    "```\n",
    "といったように"
   ]
  },
  {
   "cell_type": "code",
   "execution_count": null,
   "metadata": {},
   "outputs": [],
   "source": []
  },
  {
   "cell_type": "code",
   "execution_count": null,
   "metadata": {},
   "outputs": [],
   "source": []
  }
 ],
 "metadata": {
  "language_info": {
   "name": "python"
  }
 },
 "nbformat": 4,
 "nbformat_minor": 2
}
